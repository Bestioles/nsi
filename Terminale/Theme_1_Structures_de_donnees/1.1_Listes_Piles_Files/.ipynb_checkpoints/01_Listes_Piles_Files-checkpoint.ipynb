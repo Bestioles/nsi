{
 "cells": [
  {
   "cell_type": "markdown",
   "metadata": {},
   "source": [
    "# Types Abstraits de Données : Listes, Piles, Files"
   ]
  },
  {
   "cell_type": "markdown",
   "metadata": {},
   "source": [
    "## 0. Vocabulaire : interface ≠ implémentation"
   ]
  },
  {
   "cell_type": "markdown",
   "metadata": {},
   "source": [
    "Les structures que nous allons voir peuvent s'envisager sous deux aspects :\n",
    "- le côté utilisateur, qui utilisera une **interface** pour manipuler les données.\n",
    "- le côté concepteur, qui aura choisi une **implémentation** pour construire la structure de données.\n",
    "\n",
    "Par exemple, le volant et les pédales constituent (une partie de) l'interface d'une voiture. L'implémentation va désigner tous les mécanismes techniques qui sont mis en œuvre pour que le mouvement de rotation du volant aboutisse à un changement de direction des roues. \n",
    "\n",
    "![](data/voiture.png)\n",
    "\n",
    "Nous avons déjà abordé ces deux aspects lors de la découverte de la Programmation Orientée Objet. Le principe d'**encapsulation** fait que l'utilisateur n'a qu'à connaître l'existence des méthodes disponibles, et non pas le contenu technique de celle-ci. Cela permet notamment de modifier le contenu technique (l'implémentation) sans que les habitudes de l'utilisateur (l'interface) ne soient changées."
   ]
  },
  {
   "cell_type": "markdown",
   "metadata": {},
   "source": [
    "## 1. Les listes"
   ]
  },
  {
   "cell_type": "markdown",
   "metadata": {},
   "source": [
    "### 1.1 Définition générale\n",
    "Une liste est un ensemble ordonné d'objets (généralement de même type, mais ce n'est pas structurellement obligatoire).\n",
    "\n",
    "### 1.2 Les listes chaînées"
   ]
  },
  {
   "cell_type": "markdown",
   "metadata": {},
   "source": [
    "Lorsque l'implémentation de la liste fait apparaître une chaîne de valeurs, chacune pointant vers la suivante, on dit que la liste est une liste **chaînée**.\n",
    "\n",
    "![](data/listechainee.png)"
   ]
  },
  {
   "cell_type": "markdown",
   "metadata": {},
   "source": [
    "**Implémentation choisie :**\n",
    "- Une liste est caractérisée par un ensemble de cellules.\n",
    "- Le lien (on dira souvent le «pointeur») vers la variable est un lien vers la première cellule, qui renverra elle-même sur la deuxième, etc.\n",
    "- Chaque cellule contient donc une valeur et un lien vers la cellule suivante.\n",
    "- Une liste peut être vide (la liste vide est notée ```x``` ou bien ```None``` sur les schémas)"
   ]
  },
  {
   "cell_type": "markdown",
   "metadata": {},
   "source": [
    "Une conséquence de cette implémentation sous forme de liste chaînée est la non-constance du temps d'accès à un élément de liste : pour accéder au 3ème élément, il faut obligatoirement passer par les deux précédents.\n",
    "\n",
    "**À retenir :** dans une liste chaînée, le temps d'accès aux éléments n'est pas constant.\n"
   ]
  },
  {
   "cell_type": "markdown",
   "metadata": {},
   "source": [
    "### 1.3 Exemple d'implémentation minimale d'une liste chaînée"
   ]
  },
  {
   "cell_type": "code",
   "execution_count": null,
   "metadata": {},
   "outputs": [],
   "source": [
    "class Cellule :\n",
    "    \n",
    "    def __init__(self, valeur, suivant):\n",
    "        self.valeur = valeur\n",
    "        self.suivant = suivant"
   ]
  },
  {
   "cell_type": "markdown",
   "metadata": {},
   "source": [
    "Cette implémentation rudimentaire permet bien la création d'une liste :"
   ]
  },
  {
   "cell_type": "code",
   "execution_count": 2,
   "metadata": {},
   "outputs": [],
   "source": [
    "lst = Cellule(3, Cellule(5, Cellule(1,None)))"
   ]
  },
  {
   "cell_type": "markdown",
   "metadata": {},
   "source": [
    "La liste créée est donc :  \n",
    "![](data/ex1.png) \n",
    "\n",
    "Mais plus précisément, on a :\n",
    "![](data/ex2.png)"
   ]
  },
  {
   "cell_type": "markdown",
   "metadata": {},
   "source": [
    "**Exercice :** retrouvez comment accéder aux éléments 3, 5 et 1."
   ]
  },
  {
   "cell_type": "code",
   "execution_count": null,
   "metadata": {},
   "outputs": [],
   "source": []
  },
  {
   "cell_type": "code",
   "execution_count": null,
   "metadata": {},
   "outputs": [],
   "source": []
  },
  {
   "cell_type": "code",
   "execution_count": null,
   "metadata": {},
   "outputs": [],
   "source": []
  },
  {
   "cell_type": "markdown",
   "metadata": {},
   "source": [
    "On pourra remarquer que l'interface proposée à l'utilisateur n'est pas des plus pratiques."
   ]
  },
  {
   "cell_type": "markdown",
   "metadata": {},
   "source": [
    "### 1.4 Et les listes de Python ???"
   ]
  },
  {
   "cell_type": "markdown",
   "metadata": {},
   "source": [
    "Nous connaissons déjà les listes de Python :"
   ]
  },
  {
   "cell_type": "code",
   "execution_count": 1,
   "metadata": {},
   "outputs": [],
   "source": [
    "maliste = [3,1,-1,42]"
   ]
  },
  {
   "cell_type": "markdown",
   "metadata": {},
   "source": [
    "Et nous connaissons aussi (un peu) l'interface de ce type ```list```, notamment avec les méthodes ```append()``` ou ```reverse()```.  \n",
    "Néanmoins, l'implémentation qui a été choisie par les concepteurs de Python de ce type ```list``` fait que le celui-ci se rapproche plus d'un **tableau dynamique** : \n",
    "\n",
    "**Dans un tableau dynamique :**\n",
    "- le temps d'accès à n'importe quel élément est rapide (temps constant).\n",
    "- l'insertion d'un élément au début ou au milieu de la liste est lente : cela oblige à décaler tous les éléments à droite de celui-ci.\n",
    "\n",
    "**Dans une liste chaînée :**\n",
    "- le temps d'accès à n'importe quel élément peut être lent (proportionnel à la position de l'élément dans la liste).\n",
    "- l'insertion d'un élément à l'intérieur de la liste est rapide : il y a simplement à modifier la valeur du lien de la cellule à gauche de l'endroit d'insertion.\n",
    "\n",
    "Nous nous servirons parfois du type ```list``` de Python dans la suite de ce cours, mais l'objectif est plutôt d'implémenter nous-mêmes un «vrai» type ```list```."
   ]
  },
  {
   "cell_type": "markdown",
   "metadata": {},
   "source": [
    "### 1.5 Un exemple d'interface pour les listes"
   ]
  },
  {
   "cell_type": "markdown",
   "metadata": {},
   "source": [
    "Imaginons que nous possédons une interface offrant les fonctionnalités suivantes :\n",
    "- ```vide()``` : crée une liste vide.\n",
    "- ```est_vide()``` : indique si la liste est vide.\n",
    "- ```ajoute_tete()``` : insère un élément en tête de liste.\n",
    "- ```renvoie_tete()``` : renvoie la valeur de l'élément en tête de liste ET le supprime de la liste.\n"
   ]
  },
  {
   "cell_type": "markdown",
   "metadata": {},
   "source": [
    "**Exercice :**  \n",
    "On considère l'enchaînement d'opérations ci-dessous. Écrire à chaque étape l'état de la liste ```L``` et la valeur éventuellement renvoyée."
   ]
  },
  {
   "cell_type": "code",
   "execution_count": null,
   "metadata": {},
   "outputs": [],
   "source": [
    "1. L = vide()\n",
    "2. L.ajoute_tete(3)\n",
    "3. L.ajoute_tete(5)\n",
    "4. L.ajoute_tete(1)\n",
    "5. L.renvoie_tete()\n",
    "6. L.est_vide()\n",
    "7. L.ajoute_tete(2)\n",
    "8. L.renvoie_tete()\n",
    "9. L.renvoie_tete()\n",
    "10. L.renvoie_tete()\n",
    "11. L.est_vide()"
   ]
  },
  {
   "cell_type": "code",
   "execution_count": null,
   "metadata": {},
   "outputs": [],
   "source": []
  }
 ],
 "metadata": {
  "kernelspec": {
   "display_name": "Python 3",
   "language": "python",
   "name": "python3"
  },
  "language_info": {
   "codemirror_mode": {
    "name": "ipython",
    "version": 3
   },
   "file_extension": ".py",
   "mimetype": "text/x-python",
   "name": "python",
   "nbconvert_exporter": "python",
   "pygments_lexer": "ipython3",
   "version": "3.6.9"
  }
 },
 "nbformat": 4,
 "nbformat_minor": 4
}
