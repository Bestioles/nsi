{
 "cells": [
  {
   "cell_type": "markdown",
   "metadata": {},
   "source": [
    "# Arbres\n",
    "\n",
    "<img src=\"data/banniere.png\" width='70%' />\n",
    "<img src=\"data/prog.png\" width='70%' />"
   ]
  },
  {
   "cell_type": "markdown",
   "metadata": {},
   "source": [
    "## 1. Terminologies\n",
    "\n",
    "### 1.1 Vocabulaire\n",
    "Un arbre est un ensemble de nœuds organisés de manière hiérarchique. Si on adopte le vocabulaire des graphes (qui sera vu plus tard dans l'année), un arbre est un graphe non orienté, connexe, sans cycle, et dans lequel un nœud joue le rôle de racine.\n",
    "\n",
    "![](data/term.png) \n"
   ]
  },
  {
   "cell_type": "markdown",
   "metadata": {},
   "source": [
    "- Chaque **nœud** a exactement un seul **nœud père**, à l'exception du nœud **racine** qui est le seul nœud à ne pas avoir de père.\n",
    "- Chaque nœud peut avoir un nombre quelconque de **fils**, dont il est le père.\n",
    "- Les nœuds qui n'ont pas de fils sont appelés les **feuilles** (ou nœuds externes).\n",
    "- Les nœuds qui ne sont pas des feuilles sont des **nœuds internes**.\n",
    "- Le nom de chaque nœud est appelé son **étiquette**.\n",
    "\n",
    "**Exemples :**\n",
    "dans l'arbre ci-dessus,\n",
    "- C est la racine, E, Z A et G sont les feuilles.\n",
    "- K est le père de A et G.\n",
    "- F est le père de Z.\n",
    "- C est le père de B et K\n",
    "- B est le père de E et F."
   ]
  },
  {
   "cell_type": "markdown",
   "metadata": {},
   "source": [
    "## 1.2 Exemples d'arbres\n",
    "\n",
    "### 1.2.1 La famille royale britannique\n",
    "<img src=\"data/windsor.png\" width='60%' />\n",
    "\n",
    "Redessinez de manière plus schématique cet arbre. Pour quelle raison cet arbre a-t-il été modifié par rapport à sa version orginale (voir [ici](https://i.pinimg.com/originals/e8/d1/c7/e8d1c7b2834ce2c368848cf7fc91a057.jpg ) ) , qui laissait apparaître les parents de chaque enfant ?\n",
    "\n",
    "### 1.2.2 Le DOM d'une page web\n",
    "DOM : Document Object Model\n",
    "<img src=\"data/dom.svg\" width='40%' />\n",
    "\n",
    "### 1.2.3 L'arborescence d'un disque dur\n",
    "Les systèmes Unix (MacOS ou GNU/Linux) organisent leur disque dur suivant l'arborescence ci-dessous :\n",
    "<img src=\"data/arbo-unix.gif\" width='40%' />\n",
    "\n",
    "### 1.2.4 Exercice\n",
    "Quelque part à l'intérieur des dossiers contenus dans l'archive [dossiers.zip](data/dossiers.zip) se trouve un fichier ```tresor.txt```. Quel secret renferme-t-il ?\n",
    "\n",
    "Attention, cette recherche est à faire uniquement en ligne de commande :\n",
    "- ```ls``` : pour lister les dossiers et fichiers d'un répertoire\n",
    "- ```cd Dossier``` : pour se rendre dans le repértoire ```Dossier```\n",
    "- ```cd ..``` : pour remonter d'un niveau dans l'arborescence\n",
    "- ```unzip monarchive.zip``` : pour décompresser une archive\n",
    "- ```tree``` : pour afficher l'arborescence du répertoire courant\n",
    "- ```sudo apt install monprog``` : pour installer le programme ```monprog``` si celui-ci est manquant."
   ]
  },
  {
   "cell_type": "code",
   "execution_count": null,
   "metadata": {},
   "outputs": [],
   "source": []
  },
  {
   "cell_type": "code",
   "execution_count": null,
   "metadata": {},
   "outputs": [],
   "source": []
  },
  {
   "cell_type": "code",
   "execution_count": null,
   "metadata": {},
   "outputs": [],
   "source": []
  },
  {
   "cell_type": "code",
   "execution_count": null,
   "metadata": {},
   "outputs": [],
   "source": []
  },
  {
   "cell_type": "code",
   "execution_count": null,
   "metadata": {},
   "outputs": [],
   "source": []
  },
  {
   "cell_type": "code",
   "execution_count": null,
   "metadata": {},
   "outputs": [],
   "source": []
  },
  {
   "cell_type": "code",
   "execution_count": null,
   "metadata": {},
   "outputs": [],
   "source": []
  },
  {
   "cell_type": "code",
   "execution_count": null,
   "metadata": {},
   "outputs": [],
   "source": []
  },
  {
   "cell_type": "code",
   "execution_count": null,
   "metadata": {},
   "outputs": [],
   "source": []
  },
  {
   "cell_type": "code",
   "execution_count": null,
   "metadata": {},
   "outputs": [],
   "source": []
  },
  {
   "cell_type": "code",
   "execution_count": null,
   "metadata": {},
   "outputs": [],
   "source": []
  },
  {
   "cell_type": "code",
   "execution_count": null,
   "metadata": {},
   "outputs": [],
   "source": []
  },
  {
   "cell_type": "code",
   "execution_count": null,
   "metadata": {},
   "outputs": [],
   "source": []
  },
  {
   "cell_type": "code",
   "execution_count": null,
   "metadata": {},
   "outputs": [],
   "source": []
  },
  {
   "cell_type": "markdown",
   "metadata": {},
   "source": [
    "\n",
    "\n",
    "---\n",
    "## Bibliographie\n",
    "- Numérique et Sciences Informatiques, Terminale, T. BALABONSKI, S. CONCHON, J.-C. FILLIATRE, K. NGUYEN, éditions ELLIPSES.\n",
    "\n",
    "\n",
    "\n",
    "---\n",
    "\n",
    "![](../../../ccbysa.png \"image\") G.Lassus, Lycée François Mauriac --  Bordeaux  \n"
   ]
  },
  {
   "cell_type": "code",
   "execution_count": null,
   "metadata": {},
   "outputs": [],
   "source": []
  }
 ],
 "metadata": {
  "kernelspec": {
   "display_name": "Python 3",
   "language": "python",
   "name": "python3"
  },
  "language_info": {
   "codemirror_mode": {
    "name": "ipython",
    "version": 3
   },
   "file_extension": ".py",
   "mimetype": "text/x-python",
   "name": "python",
   "nbconvert_exporter": "python",
   "pygments_lexer": "ipython3",
   "version": "3.6.9"
  },
  "toc": {
   "base_numbering": 1,
   "nav_menu": {},
   "number_sections": true,
   "sideBar": true,
   "skip_h1_title": false,
   "title_cell": "Table of Contents",
   "title_sidebar": "Contents",
   "toc_cell": false,
   "toc_position": {},
   "toc_section_display": true,
   "toc_window_display": false
  }
 },
 "nbformat": 4,
 "nbformat_minor": 2
}
