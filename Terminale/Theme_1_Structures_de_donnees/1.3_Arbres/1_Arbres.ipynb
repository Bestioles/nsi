{
 "cells": [
  {
   "cell_type": "markdown",
   "metadata": {},
   "source": [
    "# Arbres\n",
    "\n",
    "<img src=\"data/banniere.png\" width='70%' />\n",
    "<img src=\"data/prog.png\" width='70%' />"
   ]
  },
  {
   "cell_type": "markdown",
   "metadata": {},
   "source": [
    "## 1. Terminologie\n",
    "\n",
    "### 1.1 Vocabulaire\n",
    "Un arbre est une structure hiérarchique de données, composée de nœuds. Si on adopte le vocabulaire des graphes (qui sera vu plus tard dans l'année), un arbre est un graphe non orienté, connexe, sans cycle, et dans lequel un nœud joue le rôle de racine.\n",
    "\n",
    "![](data/term.png) \n"
   ]
  },
  {
   "cell_type": "markdown",
   "metadata": {},
   "source": [
    "- Chaque **nœud** a exactement un seul **nœud père**, à l'exception du nœud **racine** qui est le seul nœud à ne pas avoir de père. (oui, **la** racine d'une arbre est **en haut**)\n",
    "- Chaque nœud peut avoir un nombre quelconque de **fils**, dont il est le père.\n",
    "- Les nœuds qui n'ont pas de fils sont appelés les **feuilles** (ou nœuds externes).\n",
    "- Les nœuds qui ne sont pas des feuilles sont des **nœuds internes**.\n",
    "- Le nom de chaque nœud est appelé son **étiquette**.\n",
    "\n",
    "**Exemples :**\n",
    "dans l'arbre ci-dessus,\n",
    "- C est la racine, E, Z A et G sont les feuilles.\n",
    "- K est le père de A et G.\n",
    "- F est le père de Z.\n",
    "- C est le père de B et K\n",
    "- B est le père de E et F."
   ]
  },
  {
   "cell_type": "markdown",
   "metadata": {},
   "source": [
    "### 1.2 Exemples d'arbres\n",
    "\n",
    "#### 1.2.1 La famille royale britannique\n",
    "<img src=\"data/windsor.png\" width='60%' />\n",
    "\n",
    "Redessinez de manière plus schématique cet arbre. Pour quelle raison cet arbre a-t-il été modifié par rapport à sa version orginale (voir [ici](https://i.pinimg.com/originals/e8/d1/c7/e8d1c7b2834ce2c368848cf7fc91a057.jpg ) ), qui laissait apparaître les parents de chaque enfant ?\n",
    "\n",
    "#### 1.2.2 Le DOM d'une page web\n",
    "DOM : Document Object Model\n",
    "<img src=\"data/dom.svg\" width='40%' />\n",
    "\n",
    "#### 1.2.3 L'arborescence d'un disque dur\n",
    "Les systèmes Unix (MacOS ou GNU/Linux) organisent leur disque dur suivant l'arborescence ci-dessous :\n",
    "<img src=\"data/arbo-unix.gif\" width='40%' />\n",
    "\n",
    "#### 1.2.4 Exercice\n",
    "Quelque part à l'intérieur des dossiers contenus dans l'archive [dossiers.zip](data/dossiers.zip) se trouve un fichier ```tresor.txt```. Quel secret renferme-t-il ?\n",
    "\n",
    "Attention, cette recherche est à faire uniquement en ligne de commande :\n",
    "- ```ls``` : pour lister les dossiers et fichiers d'un répertoire\n",
    "- ```cd Dossier``` : pour se rendre dans le repértoire ```Dossier```\n",
    "- ```cd ..``` : pour remonter d'un niveau dans l'arborescence\n",
    "- ```unzip monarchive.zip``` : pour décompresser une archive\n",
    "- ```tree``` : pour afficher l'arborescence du répertoire courant\n",
    "- ```sudo apt install monprog``` : pour installer le programme ```monprog``` si celui-ci est manquant."
   ]
  },
  {
   "cell_type": "markdown",
   "metadata": {},
   "source": [
    "### 1.3 Caractéristiques d'un arbre\n",
    "\n",
    "#### 1.3.1 Outils numériques de description\n",
    "\n",
    "![](data/carac.png)\n",
    "\n"
   ]
  },
  {
   "cell_type": "markdown",
   "metadata": {},
   "source": [
    "- la **taille** d'un arbre est son nombre total de nœuds. Ici, elle vaut 8.\n",
    "\n",
    "\n",
    "- l'**arité** d'un nœud est son nombre de fils. Ici, l'arité de B vaut 2, celle de F vaut 1, celle de Z vaut 0.\n",
    "\n",
    "\n",
    "- la **profondeur** d'un nœud est la longueur du chemin le plus court (en nombre d'arêtes) vers la racine. \n",
    "Ici, la profondeur de G est 2, la profondeur de B est 1, la profondeur de Z est 3, la profondeur de C est 0.\n",
    "\n",
    "\n",
    "- la **hauteur** d'un arbre est la profondeur de son nœud le plus profond. \n",
    "Ici, la hauteur de l'arbre est 3.\n",
    "Nous prendrons comme **convention** que :\n",
    "- si un arbre est réduit à **un seul nœud-racine**, sa hauteur sera **0**.\n",
    "- si un arbre est **vide**, sa hauteur est **-1**.\n",
    "\n",
    "*Attention, dans certains ouvrages, l'arbre vide a pour hauteur 0, et donc l'arbre réduit à un seul nœud a pour hauteur 1, donc notre arbre a une hauteur 4.*"
   ]
  },
  {
   "cell_type": "markdown",
   "metadata": {},
   "source": [
    "### 1.4 Encore du vocabulaire\n",
    "\n",
    "#### 1.4.2 Arbres binaires\n",
    "Un arbre binaire est un arbre dont chaque nœud possède **au plus** deux fils.\n",
    "\n",
    "L'arbre généalogique de la famille royale britannique n'est pas un arbre binaire. \n",
    "\n",
    "L'arbre ci-dessous est lui un arbre binaire.\n",
    "\n",
    "![](data/carac3.png)\n",
    "\n",
    "#### 1.4.1 Sous-arbres  d'un arbre binaire\n",
    "\n",
    "Chaque nœud d'un arbre binaire ne pouvant pas avoir plus de 2 fils, il est possible de séparer le «dessous» de chaque nœud en deux sous-arbres (éventuellement vides) : le **sous-arbre gauche** et le **sous-arbre droit**.\n",
    "\n",
    "![](data/sousarbres.png)\n",
    "\n",
    "\n",
    "- Les deux sous-arbres représentés ici sont les sous-arbres du nœud-racine T. \n",
    "- Le nœud O admet comme sous-arbre gauche le nœud H et comme sous-arbre droit le nœud N.\n",
    "- Les feuilles P, H et N ont pour sous-arbre gauche et pour sous-arbre droit l'**arbre vide**.\n",
    "\n"
   ]
  },
  {
   "cell_type": "markdown",
   "metadata": {},
   "source": [
    "## 2. Parcours d'arbres\n",
    "Les arbres étant une structure hiérarchique, leur utilisation implique la nécessité d'un **parcours** des valeurs stockées. Par exemple pour toutes les récupérer dans un certain ordre, ou bien pour en chercher une en particulier.  \n",
    "\n",
    "Il existe plusieurs manières de parcourir un arbre.\n"
   ]
  },
  {
   "cell_type": "markdown",
   "metadata": {},
   "source": [
    "### 2.1 Parcours en largeur d'abord (BFS)\n",
    "*BFS : Breadth First Search*\n",
    "\n",
    "Le parcours en largeur d'abord est un parcours étage par étage (de haut en bas) et de gauche à droite.\n",
    "\n",
    "![](data/BFS.png)\n",
    "\n",
    "L'ordre des lettres parcourues est donc T-Y-O-P-H-N."
   ]
  },
  {
   "cell_type": "markdown",
   "metadata": {},
   "source": [
    "Les trois parcours que nous allons voir maintenant sont des parcours en **profondeur d'abord**, ou **DPS** (*Depth First Search*). Ce qui signifie qu'un des deux sous-arbres sera totalement parcouru avant que l'exploration du deuxième ne commence. "
   ]
  },
  {
   "cell_type": "markdown",
   "metadata": {},
   "source": [
    "### 2.2 Parcours préfixe\n",
    "Le parcours **préfixe** est un parcours **en profondeur d'abord**. \n",
    "\n",
    "**Méthode du parcours préfixe :** (parfois aussi appelé *préordre*)\n",
    "- Chaque nœud est visité avant que ses fils le soient.\n",
    "- On part de la racine, puis on visite son fils gauche (et éventuellement le fils gauche de celui-ci, etc.) avant de remonter et de redescendre vers le fils droit.\n",
    "\n",
    "![](data/prefixe.png)\n",
    "\n",
    "L'ordre des lettres parcourues est donc T-Y-P-O-H-N."
   ]
  },
  {
   "attachments": {},
   "cell_type": "markdown",
   "metadata": {},
   "source": [
    "### 2.3 Parcours infixe\n",
    "Le parcours **infixe** est aussi un parcours en profondeur d'abord.\n",
    "\n",
    "**Méthode du parcours infixe :** (parfois aussi appelé *en ordre*)\n",
    "- Chaque nœud est visité **après son fils gauche mais avant son fils droit**.\n",
    "- On part donc de la feuille la plus à gauche et on remonte par vagues sucessives. Un nœud ne peut pas être visité si son fils gauche ne l'a pas été.\n",
    "\n",
    "![](data/infixe.svg)\n",
    "\n",
    "L'ordre des lettres parcourues est donc P-Y-T-H-O-N."
   ]
  },
  {
   "cell_type": "markdown",
   "metadata": {},
   "source": [
    "### 2.3 Parcours postfixe\n",
    "Le parcours **postfixe** est aussi un parcours en profondeur d'abord.\n",
    "\n",
    "**Méthode du parcours postfixe :** (parfois aussi appelé *post ordre*)\n",
    "- Chaque nœud est visité **après ses fils les soient**.\n",
    "- On part donc de la feuille la plus à gauche, et on ne remonte à un nœud père que si ses fils ont tous été visités. \n",
    "\n",
    "![](data/postfixe.png)\n",
    "\n",
    "L'ordre des lettres parcourues est donc P-Y-H-N-O-T."
   ]
  },
  {
   "cell_type": "markdown",
   "metadata": {},
   "source": [
    "### 2.4 Comment ne pas se mélanger entre le pré / in / post fixe ?\n",
    "- *pré* veut dire *avant*\n",
    "- *in* veut dire *au milieu*\n",
    "- *post* veut dire *après*\n",
    "\n",
    "Ces trois mots-clés parlent de la place du **père** par rapport à ses fils. \n",
    "Ensuite, il faut toujours se souvenir qu'on traite le fils gauche avant le fils droit.\n",
    "\n",
    "- préfixe : le père doit être le premier par rapport à ses fils.\n",
    "- infixe : le père doit être entre son fils gauche (traité en premier) et son fils droit.\n",
    "- postfixe : le père ne doit être traité que quand ses deux fils (gauche d'abord, droite ensuite) l'ont été.\n",
    "\n",
    "Un parcours préfixe commencera toujours par la racine, alors qu'un parcours postfixe finira toujours par la racine. Dans un parcours infixe, la racine sera «au milieu» (pas nécessairement parfaitement)."
   ]
  },
  {
   "cell_type": "markdown",
   "metadata": {},
   "source": [
    "### 2.5 Exercice 1\n",
    "\n",
    "![](data/exo_parcours.png)\n",
    "\n",
    "Donner le rendu de chaque parcours :\n",
    "1. Parcours en largeur \n",
    "2. Parcours préfixe\n",
    "3. Parcours infixe\n",
    "4. Parcours postfixe\n",
    "\n",
    "[Correction](https://gist.github.com/glassus/031901b09dbb9d780247beb5db69eda2)\n"
   ]
  },
  {
   "cell_type": "markdown",
   "metadata": {},
   "source": [
    "### 2.6 Exercice 2\n",
    "\n",
    "![](data/exo_2.png)\n",
    "\n",
    "Donner le rendu de chaque parcours :\n",
    "1. Parcours en largeur \n",
    "2. Parcours préfixe\n",
    "3. Parcours infixe\n",
    "4. Parcours postfixe\n",
    "\n",
    "[Correction](https://gist.github.com/glassus/05aeb20012b01bbaa170aa78c6959a0e)\n"
   ]
  },
  {
   "cell_type": "code",
   "execution_count": null,
   "metadata": {},
   "outputs": [],
   "source": []
  },
  {
   "cell_type": "code",
   "execution_count": null,
   "metadata": {},
   "outputs": [],
   "source": []
  },
  {
   "cell_type": "code",
   "execution_count": null,
   "metadata": {},
   "outputs": [],
   "source": []
  },
  {
   "cell_type": "code",
   "execution_count": null,
   "metadata": {},
   "outputs": [],
   "source": []
  },
  {
   "cell_type": "code",
   "execution_count": null,
   "metadata": {},
   "outputs": [],
   "source": []
  },
  {
   "cell_type": "code",
   "execution_count": null,
   "metadata": {},
   "outputs": [],
   "source": []
  },
  {
   "cell_type": "code",
   "execution_count": null,
   "metadata": {},
   "outputs": [],
   "source": []
  },
  {
   "cell_type": "markdown",
   "metadata": {},
   "source": [
    "\n",
    "\n",
    "---\n",
    "## Bibliographie\n",
    "- Numérique et Sciences Informatiques, Terminale, T. BALABONSKI, S. CONCHON, J.-C. FILLIATRE, K. NGUYEN, éditions ELLIPSES.\n",
    "\n",
    "\n",
    "\n",
    "---\n",
    "\n",
    "![](../../../ccbysa.png \"image\") G.Lassus, Lycée François Mauriac --  Bordeaux  \n"
   ]
  },
  {
   "cell_type": "code",
   "execution_count": null,
   "metadata": {},
   "outputs": [],
   "source": []
  }
 ],
 "metadata": {
  "kernelspec": {
   "display_name": "Python 3",
   "language": "python",
   "name": "python3"
  },
  "language_info": {
   "codemirror_mode": {
    "name": "ipython",
    "version": 3
   },
   "file_extension": ".py",
   "mimetype": "text/x-python",
   "name": "python",
   "nbconvert_exporter": "python",
   "pygments_lexer": "ipython3",
   "version": "3.6.9"
  },
  "toc": {
   "base_numbering": 1,
   "nav_menu": {},
   "number_sections": true,
   "sideBar": true,
   "skip_h1_title": false,
   "title_cell": "Table of Contents",
   "title_sidebar": "Contents",
   "toc_cell": false,
   "toc_position": {},
   "toc_section_display": true,
   "toc_window_display": false
  }
 },
 "nbformat": 4,
 "nbformat_minor": 2
}
